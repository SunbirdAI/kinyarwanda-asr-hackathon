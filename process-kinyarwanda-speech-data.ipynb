{
 "cells": [
  {
   "cell_type": "code",
   "execution_count": 7,
   "id": "f1ff2745-74e2-44a0-b24f-6361a2404745",
   "metadata": {},
   "outputs": [],
   "source": [
    "!pip install -q librosa\n",
    "!pip install -q datasets\n",
    "!pip install -q wget\n",
    "!pip install -q soundfile\n",
    "!pip install ipywidgets widgetsnbextension"
   ]
  },
  {
   "cell_type": "code",
   "execution_count": 9,
   "id": "97aaebad-82f9-4d1b-9443-bdebf7e7d094",
   "metadata": {},
   "outputs": [],
   "source": [
    "from IPython import display\n",
    "import pandas as pd\n",
    "import librosa\n",
    "import json\n",
    "#import tqdm\n",
    "import tqdm.notebook as tqdm\n",
    "import numpy as np\n",
    "import warnings\n",
    "import os\n",
    "import datasets\n",
    "warnings.filterwarnings(\"ignore\", message=\"PySoundFile failed. Trying audioread instead.\")\n",
    "warnings.filterwarnings(\"ignore\", category=FutureWarning, \n",
    "                       message=\"librosa.core.audio.__audioread_load.*\")"
   ]
  },
  {
   "cell_type": "markdown",
   "id": "fae4ef10-a8c7-4f31-9276-5c94a65c1aa1",
   "metadata": {},
   "source": [
    "The data files are a mixture of different formats (ogg, mp3, webm) so first convert everything to .ogg."
   ]
  },
  {
   "cell_type": "code",
   "execution_count": null,
   "id": "06b014d7-7cce-42ce-bc2e-ae172a0aa730",
   "metadata": {},
   "outputs": [],
   "source": [
    "import os\n",
    "import subprocess\n",
    "import multiprocessing\n",
    "from tqdm.notebook import tqdm\n",
    "\n",
    "\n",
    "def list_files_no_extension(folder):\n",
    "    \"\"\"List all files in folder with no extension.\"\"\"\n",
    "    return [\n",
    "        os.path.join(folder, f)\n",
    "        for f in os.listdir(folder)\n",
    "        if os.path.isfile(os.path.join(folder, f)) and '.' not in f\n",
    "    ]\n",
    "\n",
    "\n",
    "def convert_to_ogg(file_path, output_dir):\n",
    "    \"\"\"Convert a single file to .ogg using ffmpeg.\"\"\"\n",
    "    base_name = os.path.basename(file_path)\n",
    "    output_path = os.path.join(output_dir, f\"{base_name}.ogg\")\n",
    "\n",
    "    try:\n",
    "        result = subprocess.run(\n",
    "            [\"ffmpeg\", \"-y\", \"-i\", file_path, \"-c:a\", \"libvorbis\", output_path],\n",
    "            stdout=subprocess.DEVNULL,\n",
    "            stderr=subprocess.DEVNULL\n",
    "        )\n",
    "        if result.returncode == 0:\n",
    "            return (file_path, True)\n",
    "        else:\n",
    "            return (file_path, False)\n",
    "    except Exception:\n",
    "        return (file_path, False)\n",
    "\n",
    "\n",
    "def batch_convert(folder, output_dir, num_workers=8):\n",
    "    os.makedirs(output_dir, exist_ok=True)\n",
    "    files = list_files_no_extension(folder)\n",
    "\n",
    "    valid = []\n",
    "    invalid = []\n",
    "\n",
    "    with multiprocessing.Pool(num_workers) as pool:\n",
    "        jobs = [pool.apply_async(convert_to_ogg, args=(f, output_dir)) for f in files]\n",
    "        for job in tqdm(jobs, desc=\"Converting files to .ogg\"):\n",
    "            path, success = job.get()\n",
    "            if success:\n",
    "                valid.append(path)\n",
    "            else:\n",
    "                invalid.append(path)\n",
    "\n",
    "    return valid, invalid\n",
    "\n",
    "\n",
    "# === USAGE ===\n",
    "input_folder = \"audio\"\n",
    "output_folder = \"audio_ogg\"\n",
    "num_workers = 16  # adjust to match your CPU\n",
    "\n",
    "valid_files, invalid_files = batch_convert(input_folder, output_folder, num_workers=num_workers)\n",
    "\n",
    "print(f\"✅ Successfully converted: {len(valid_files)}\")\n",
    "print(f\"❌ Invalid or failed files: {len(invalid_files)}\")"
   ]
  },
  {
   "cell_type": "code",
   "execution_count": 171,
   "id": "b0722a1a-1091-4e6e-bf67-b8072943c2ff",
   "metadata": {},
   "outputs": [],
   "source": [
    "data_dir = 'audio_folder_test'\n",
    "with open('test.json') as f:\n",
    "    d = json.load(f)"
   ]
  },
  {
   "cell_type": "code",
   "execution_count": 164,
   "id": "f021d92e-8864-4adb-90ba-2952e2f148e5",
   "metadata": {},
   "outputs": [],
   "source": [
    "file_names = []\n",
    "ids = []\n",
    "texts = []\n",
    "audio_language = []\n",
    "prompts = []\n",
    "durations = []\n",
    "\n",
    "for key in d.keys():\n",
    "    example = d[key]\n",
    "    has_duration = example['duration'] is not None\n",
    "    valid_duration = has_duration and example['duration'] < 30.0\n",
    "    has_transcription = example['transcription'] is not None and len(example['transcription']) > 10\n",
    "    # Filter training data\n",
    "    # if valid_duration and has_transcription:\n",
    "    # No filter for test data\n",
    "    if 'test' in data_dir or (valid_duration and has_transcription):\n",
    "        file_names.append(example['audio_path'] + '.ogg')\n",
    "        ids.append(key)\n",
    "        durations.append(example['duration'])\n",
    "        # If test data, empty transcription\n",
    "        if data_dir == 'audio_folder_test':\n",
    "            texts.append(' ')\n",
    "        else:\n",
    "            texts.append(example['transcription'])\n",
    "        prompts.append(example['image_category'] + ', ' + example['image_sub_category'])"
   ]
  },
  {
   "cell_type": "code",
   "execution_count": 165,
   "id": "f6eade60-e4ea-44e4-b327-17f8c1a12759",
   "metadata": {},
   "outputs": [
    {
     "data": {
      "text/plain": [
       "9263"
      ]
     },
     "execution_count": 165,
     "metadata": {},
     "output_type": "execute_result"
    }
   ],
   "source": [
    "len(ids)"
   ]
  },
  {
   "cell_type": "code",
   "execution_count": 166,
   "id": "9e9acb83-f5e7-4e9d-aeb8-c9405f787864",
   "metadata": {},
   "outputs": [],
   "source": [
    "df = pd.DataFrame()\n",
    "df['id'] = ids\n",
    "df['file_name'] = file_names\n",
    "df['audio_language'] = 'kin'\n",
    "df['text'] = texts\n",
    "df['prompt'] = prompts\n",
    "df['duration'] = durations\n",
    "# Filter out any entries with no audio\n",
    "df = df[df['file_name'].apply(\n",
    "    lambda x: os.path.exists(data_dir + '/' + x))]"
   ]
  },
  {
   "cell_type": "code",
   "execution_count": 167,
   "id": "d5000bd6-1100-49e2-bf2a-7c160bbcdb7b",
   "metadata": {},
   "outputs": [
    {
     "data": {
      "text/html": [
       "<div>\n",
       "<style scoped>\n",
       "    .dataframe tbody tr th:only-of-type {\n",
       "        vertical-align: middle;\n",
       "    }\n",
       "\n",
       "    .dataframe tbody tr th {\n",
       "        vertical-align: top;\n",
       "    }\n",
       "\n",
       "    .dataframe thead th {\n",
       "        text-align: right;\n",
       "    }\n",
       "</style>\n",
       "<table border=\"1\" class=\"dataframe\">\n",
       "  <thead>\n",
       "    <tr style=\"text-align: right;\">\n",
       "      <th></th>\n",
       "      <th>id</th>\n",
       "      <th>file_name</th>\n",
       "      <th>audio_language</th>\n",
       "      <th>text</th>\n",
       "      <th>prompt</th>\n",
       "      <th>duration</th>\n",
       "    </tr>\n",
       "  </thead>\n",
       "  <tbody>\n",
       "    <tr>\n",
       "      <th>0</th>\n",
       "      <td>KsVMmVra4WbPUm7bvUVI</td>\n",
       "      <td>audio/1737470193-FMS8HawISoYIuCLQt2QjIoz1d8H2.ogg</td>\n",
       "      <td>kin</td>\n",
       "      <td>Umugore wambaye umupira w'akazi mpuzankano iri...</td>\n",
       "      <td>Financial Services, Mobile_money_kiosks</td>\n",
       "      <td>18.090667</td>\n",
       "    </tr>\n",
       "    <tr>\n",
       "      <th>1</th>\n",
       "      <td>b9rjWQGuU5NG1it3ADOd</td>\n",
       "      <td>audio/1737663811-rVzBmu7JpsUV2uUrsTHz1HMf5LF3.ogg</td>\n",
       "      <td>kin</td>\n",
       "      <td>Uburyo emutiyene yatangije wishyura amafaranga...</td>\n",
       "      <td>Financial Services, Mobile_money_kiosks</td>\n",
       "      <td>16.277333</td>\n",
       "    </tr>\n",
       "    <tr>\n",
       "      <th>2</th>\n",
       "      <td>cgqGF3vpjdPiQdM550f2</td>\n",
       "      <td>audio/1739893092-o2i2UlqzLJPMnM7ZfKzhq0bbY9z2.ogg</td>\n",
       "      <td>kin</td>\n",
       "      <td>Umudamu uhagaze mu iduka, w'inzobe, uri guseka...</td>\n",
       "      <td>Financial Services, Boutiques</td>\n",
       "      <td>23.317333</td>\n",
       "    </tr>\n",
       "    <tr>\n",
       "      <th>3</th>\n",
       "      <td>vEQyHWCzaKM11GdXykKi</td>\n",
       "      <td>audio/1737640745-LpoUVdUVxjM6P6JkrJcEIzmCI562.ogg</td>\n",
       "      <td>kin</td>\n",
       "      <td>Ikusanyirizo ry'amata yitwa miriki zone y'Inya...</td>\n",
       "      <td>Financial Services, Dairy_product_shops</td>\n",
       "      <td>19.080000</td>\n",
       "    </tr>\n",
       "    <tr>\n",
       "      <th>4</th>\n",
       "      <td>6bl9pichoKbYa0bdTeZ3</td>\n",
       "      <td>audio/1737222297-edDS7WSeKCS6O2zFNySBoWwMtpX2.ogg</td>\n",
       "      <td>kin</td>\n",
       "      <td>Imashini zitunganya amata, ubushakashatsi bwak...</td>\n",
       "      <td>Financial Services, Dairy_product_shops</td>\n",
       "      <td>15.120000</td>\n",
       "    </tr>\n",
       "    <tr>\n",
       "      <th>...</th>\n",
       "      <td>...</td>\n",
       "      <td>...</td>\n",
       "      <td>...</td>\n",
       "      <td>...</td>\n",
       "      <td>...</td>\n",
       "      <td>...</td>\n",
       "    </tr>\n",
       "    <tr>\n",
       "      <th>9258</th>\n",
       "      <td>PFY45NMyoZQQe34P5VlP</td>\n",
       "      <td>audio/1742980214-LqSkNILaTYZN3XpRAIr5ai2hS012.ogg</td>\n",
       "      <td>kin</td>\n",
       "      <td>Ndabona ikimera, ibimera dukundaga gukoresha m...</td>\n",
       "      <td>Health, Traditional Medecine</td>\n",
       "      <td>17.400000</td>\n",
       "    </tr>\n",
       "    <tr>\n",
       "      <th>9259</th>\n",
       "      <td>sCrx0TjAhT4SooTZ9tik</td>\n",
       "      <td>audio/1743019968-TuAJCA584lflQUPELwwF1utx9N63.ogg</td>\n",
       "      <td>kin</td>\n",
       "      <td>Mu bihingwa gakondo byo mu Rwanda hagaragaramo...</td>\n",
       "      <td>Health, Traditional Medecine</td>\n",
       "      <td>28.680000</td>\n",
       "    </tr>\n",
       "    <tr>\n",
       "      <th>9260</th>\n",
       "      <td>HcXKvWL353OurJXMMUBc</td>\n",
       "      <td>audio/1743420987-vDkghm2DOngAvsYZo9vqrpSP3El2.ogg</td>\n",
       "      <td>kin</td>\n",
       "      <td>Uruzitiro rw'ibiti bitandukanye by'icatsi, has...</td>\n",
       "      <td>Health, Traditional Medecine</td>\n",
       "      <td>28.380000</td>\n",
       "    </tr>\n",
       "    <tr>\n",
       "      <th>9261</th>\n",
       "      <td>JZp1X68iFY3RuzjfDW3u</td>\n",
       "      <td>audio/1743423425-D0ftP87QZSXYJx1rUaBprSgzcUU2.ogg</td>\n",
       "      <td>kin</td>\n",
       "      <td>Umugwegwe ni icatsi ciza kigira uruti ruhera h...</td>\n",
       "      <td>Health, Traditional Medecine</td>\n",
       "      <td>17.580000</td>\n",
       "    </tr>\n",
       "    <tr>\n",
       "      <th>9262</th>\n",
       "      <td>plubmioPcUzy38mfp2l4</td>\n",
       "      <td>audio/1743085945-8bHO1nfgnoeNNdKXoAtlrP7vUA53.ogg</td>\n",
       "      <td>kin</td>\n",
       "      <td>Inzu itubatse neza,itangijwe na fonasiyo y'ama...</td>\n",
       "      <td>Health, Traditional Medecine</td>\n",
       "      <td>18.000000</td>\n",
       "    </tr>\n",
       "  </tbody>\n",
       "</table>\n",
       "<p>9263 rows × 6 columns</p>\n",
       "</div>"
      ],
      "text/plain": [
       "                        id                                          file_name  \\\n",
       "0     KsVMmVra4WbPUm7bvUVI  audio/1737470193-FMS8HawISoYIuCLQt2QjIoz1d8H2.ogg   \n",
       "1     b9rjWQGuU5NG1it3ADOd  audio/1737663811-rVzBmu7JpsUV2uUrsTHz1HMf5LF3.ogg   \n",
       "2     cgqGF3vpjdPiQdM550f2  audio/1739893092-o2i2UlqzLJPMnM7ZfKzhq0bbY9z2.ogg   \n",
       "3     vEQyHWCzaKM11GdXykKi  audio/1737640745-LpoUVdUVxjM6P6JkrJcEIzmCI562.ogg   \n",
       "4     6bl9pichoKbYa0bdTeZ3  audio/1737222297-edDS7WSeKCS6O2zFNySBoWwMtpX2.ogg   \n",
       "...                    ...                                                ...   \n",
       "9258  PFY45NMyoZQQe34P5VlP  audio/1742980214-LqSkNILaTYZN3XpRAIr5ai2hS012.ogg   \n",
       "9259  sCrx0TjAhT4SooTZ9tik  audio/1743019968-TuAJCA584lflQUPELwwF1utx9N63.ogg   \n",
       "9260  HcXKvWL353OurJXMMUBc  audio/1743420987-vDkghm2DOngAvsYZo9vqrpSP3El2.ogg   \n",
       "9261  JZp1X68iFY3RuzjfDW3u  audio/1743423425-D0ftP87QZSXYJx1rUaBprSgzcUU2.ogg   \n",
       "9262  plubmioPcUzy38mfp2l4  audio/1743085945-8bHO1nfgnoeNNdKXoAtlrP7vUA53.ogg   \n",
       "\n",
       "     audio_language                                               text  \\\n",
       "0               kin  Umugore wambaye umupira w'akazi mpuzankano iri...   \n",
       "1               kin  Uburyo emutiyene yatangije wishyura amafaranga...   \n",
       "2               kin  Umudamu uhagaze mu iduka, w'inzobe, uri guseka...   \n",
       "3               kin  Ikusanyirizo ry'amata yitwa miriki zone y'Inya...   \n",
       "4               kin  Imashini zitunganya amata, ubushakashatsi bwak...   \n",
       "...             ...                                                ...   \n",
       "9258            kin  Ndabona ikimera, ibimera dukundaga gukoresha m...   \n",
       "9259            kin  Mu bihingwa gakondo byo mu Rwanda hagaragaramo...   \n",
       "9260            kin  Uruzitiro rw'ibiti bitandukanye by'icatsi, has...   \n",
       "9261            kin  Umugwegwe ni icatsi ciza kigira uruti ruhera h...   \n",
       "9262            kin  Inzu itubatse neza,itangijwe na fonasiyo y'ama...   \n",
       "\n",
       "                                       prompt   duration  \n",
       "0     Financial Services, Mobile_money_kiosks  18.090667  \n",
       "1     Financial Services, Mobile_money_kiosks  16.277333  \n",
       "2               Financial Services, Boutiques  23.317333  \n",
       "3     Financial Services, Dairy_product_shops  19.080000  \n",
       "4     Financial Services, Dairy_product_shops  15.120000  \n",
       "...                                       ...        ...  \n",
       "9258             Health, Traditional Medecine  17.400000  \n",
       "9259             Health, Traditional Medecine  28.680000  \n",
       "9260             Health, Traditional Medecine  28.380000  \n",
       "9261             Health, Traditional Medecine  17.580000  \n",
       "9262             Health, Traditional Medecine  18.000000  \n",
       "\n",
       "[9263 rows x 6 columns]"
      ]
     },
     "execution_count": 167,
     "metadata": {},
     "output_type": "execute_result"
    }
   ],
   "source": [
    "df"
   ]
  },
  {
   "cell_type": "code",
   "execution_count": 168,
   "id": "82d6a4c8-a297-4274-9223-83eee25b7d47",
   "metadata": {},
   "outputs": [
    {
     "data": {
      "text/plain": [
       "np.float64(50.40407329325651)"
      ]
     },
     "execution_count": 168,
     "metadata": {},
     "output_type": "execute_result"
    }
   ],
   "source": [
    "np.sum(df['duration']) / 3600"
   ]
  },
  {
   "cell_type": "code",
   "execution_count": 67,
   "id": "5d0ec529-18a5-47d9-a70f-71fa2242cad1",
   "metadata": {},
   "outputs": [
    {
     "name": "stdout",
     "output_type": "stream",
     "text": [
      "mkdir: cannot create directory ‘audio_folder_test’: File exists\n",
      "mkdir: cannot create directory ‘audio_folder_test/audio’: File exists\n"
     ]
    }
   ],
   "source": [
    "!mkdir {data_dir}\n",
    "!mkdir {data_dir}/audio"
   ]
  },
  {
   "cell_type": "code",
   "execution_count": 60,
   "id": "281b3ff2-d287-4887-864c-9db5dfb0f253",
   "metadata": {},
   "outputs": [
    {
     "data": {
      "application/vnd.jupyter.widget-view+json": {
       "model_id": "827ec5b722274442be1d10bc90fc9d74",
       "version_major": 2,
       "version_minor": 0
      },
      "text/plain": [
       "  0%|          | 0/9265 [00:00<?, ?it/s]"
      ]
     },
     "metadata": {},
     "output_type": "display_data"
    }
   ],
   "source": [
    "import shutil\n",
    "for file_name in tqdm.tqdm(file_names):\n",
    "    shutil.copy2(file_name, f\"{data_dir}/{file_name}\")"
   ]
  },
  {
   "cell_type": "code",
   "execution_count": 169,
   "id": "eb768b0b-e9f8-42c1-90c2-1c9b46dfc324",
   "metadata": {},
   "outputs": [],
   "source": [
    "df.to_csv(f'{data_dir}/metadata.csv', index=False)"
   ]
  },
  {
   "cell_type": "markdown",
   "id": "b0f79538-b86b-46e6-9e3e-f0549655910e",
   "metadata": {},
   "source": [
    "After carrying out the above for three splits (train, dev_test and test), then upload to a private HuggingFace repo"
   ]
  },
  {
   "cell_type": "code",
   "execution_count": null,
   "id": "bbe1a803-9115-4b89-be77-9fa21c08e6c0",
   "metadata": {},
   "outputs": [],
   "source": [
    "# Reload each split from their respective directories\n",
    "test_ds = datasets.load_dataset(\"audiofolder\", data_dir=\"audio_folder_test\", split=\"train\")  # becomes 'test'\n",
    "val_ds = datasets.load_dataset(\"audiofolder\", data_dir=\"audio_folder_dev_test\", split=\"train\")    # optional\n",
    "train_ds = datasets.load_dataset(\"audiofolder\", data_dir=\"audio_folder\", split=\"train\")\n",
    "\n",
    "# Rename splits and combine\n",
    "dataset = datasets.DatasetDict({\n",
    "    \"train\": train_ds,\n",
    "    \"test\": test_ds,\n",
    "    \"dev_test\": val_ds,\n",
    "})\n",
    "\n",
    "# Push all splits together\n",
    "dataset.push_to_hub(\"jq/kinyarwanda-speech-hackathon\", private=True)"
   ]
  },
  {
   "cell_type": "code",
   "execution_count": 134,
   "id": "b985ff9e-25a5-45d1-9dfe-27e61991e4e7",
   "metadata": {},
   "outputs": [
    {
     "data": {
      "text/plain": [
       "{'id': '0000nf4gVJZuLc93PruO',\n",
       " 'audio': {'path': '/home/user/Downloads/audio_folder/audio/1739639348-1JxgqY2zCWOuXdSJZqUeJ9qiRry2.ogg',\n",
       "  'array': array([ 0.        ,  0.        ,  0.        , ..., -0.00302154,\n",
       "         -0.00219331, -0.00154569], shape=(884160,)),\n",
       "  'sampling_rate': 48000},\n",
       " 'audio_language': 'kin',\n",
       " 'text': ' ',\n",
       " 'prompt': 'Government Services, E-Government Services',\n",
       " 'duration': 18.42}"
      ]
     },
     "execution_count": 134,
     "metadata": {},
     "output_type": "execute_result"
    }
   ],
   "source": [
    "dataset['train'][0]"
   ]
  },
  {
   "cell_type": "code",
   "execution_count": null,
   "id": "b7df8637-55a1-43ca-919d-dc6b8bd5e84c",
   "metadata": {},
   "outputs": [],
   "source": []
  }
 ],
 "metadata": {
  "kernelspec": {
   "display_name": "Python 3 (ipykernel)",
   "language": "python",
   "name": "python3"
  },
  "language_info": {
   "codemirror_mode": {
    "name": "ipython",
    "version": 3
   },
   "file_extension": ".py",
   "mimetype": "text/x-python",
   "name": "python",
   "nbconvert_exporter": "python",
   "pygments_lexer": "ipython3",
   "version": "3.10.12"
  }
 },
 "nbformat": 4,
 "nbformat_minor": 5
}
